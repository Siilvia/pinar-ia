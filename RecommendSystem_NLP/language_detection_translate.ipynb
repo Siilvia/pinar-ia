{
 "cells": [
  {
   "cell_type": "markdown",
   "id": "3ae5a398",
   "metadata": {},
   "source": [
    "## Análisis de métodos de detección y traducción de licitaciones\n",
    "\n",
    "#### input: histórico de licitaciones\n",
    "#### output: traducción de los atributos relevantes del histórico de licitaciones\n",
    "\n",
    "### Autor: Silvia García, Data Scientist, Grupo EVM"
   ]
  },
  {
   "cell_type": "code",
   "execution_count": null,
   "id": "837513ef",
   "metadata": {},
   "outputs": [],
   "source": [
    "# Importing necessary libraries\n",
    "import pandas as pd\n",
    "import numpy as np\n",
    "import nltk\n",
    "nltk.download('stopwords')\n",
    "from nltk.corpus import stopwords\n",
    "from sklearn.metrics.pairwise import linear_kernel\n",
    "from sklearn.feature_extraction.text import CountVectorizer\n",
    "from sklearn.feature_extraction.text import TfidfVectorizer\n",
    "from nltk.tokenize import RegexpTokenizer\n",
    "import re\n",
    "import string\n",
    "import random\n",
    "from PIL import Image\n",
    "import requests\n",
    "from io import BytesIO\n",
    "import matplotlib.pyplot as plt\n",
    "%matplotlib inline\n",
    "from sklearn.metrics.pairwise import cosine_similarity\n",
    "from gensim.models import Word2Vec\n",
    "from gensim.models.phrases import Phrases, Phraser\n",
    "from matplotlib import pyplot\n",
    "from gensim.models import KeyedVectors\n",
    "import gensim\n",
    "\n",
    "import warnings\n",
    "warnings.filterwarnings(\"ignore\")"
   ]
  },
  {
   "cell_type": "markdown",
   "id": "0f4817b4",
   "metadata": {},
   "source": [
    "Información relevante de tensorflow, cuda, cudnn, pytorch y transformers\n",
    "\n",
    "- https://towardsdatascience.com/setting-up-tensorflow-gpu-with-cuda-and-anaconda-onwindows-2ee9c39b5c44\n",
    "- https://www.tensorflow.org/install/source#gpu\n",
    "- https://pytorch.org/get-started/locally/\n",
    "\n",
    "- https://github.com/detectlanguage/detectlanguage-python\n",
    "- https://detectlanguage.com/private"
   ]
  },
  {
   "cell_type": "markdown",
   "id": "31684432",
   "metadata": {},
   "source": [
    "### 1. Lectura del df"
   ]
  },
  {
   "cell_type": "code",
   "execution_count": 2,
   "id": "d1c56c30",
   "metadata": {},
   "outputs": [],
   "source": [
    "# Reading the data\n",
    "df = pd.read_csv(\"main_licitaciones_bbdd.csv\", error_bad_lines = False)"
   ]
  },
  {
   "cell_type": "code",
   "execution_count": 3,
   "id": "55d6feb3",
   "metadata": {},
   "outputs": [
    {
     "name": "stdout",
     "output_type": "stream",
     "text": [
      "el número de licitaciones es de 849412\n"
     ]
    },
    {
     "data": {
      "text/html": [
       "<div>\n",
       "<style scoped>\n",
       "    .dataframe tbody tr th:only-of-type {\n",
       "        vertical-align: middle;\n",
       "    }\n",
       "\n",
       "    .dataframe tbody tr th {\n",
       "        vertical-align: top;\n",
       "    }\n",
       "\n",
       "    .dataframe thead th {\n",
       "        text-align: right;\n",
       "    }\n",
       "</style>\n",
       "<table border=\"1\" class=\"dataframe\">\n",
       "  <thead>\n",
       "    <tr style=\"text-align: right;\">\n",
       "      <th></th>\n",
       "      <th>Identificador</th>\n",
       "      <th>Número de expediente</th>\n",
       "      <th>Link licitación</th>\n",
       "      <th>Objeto del Contrato</th>\n",
       "      <th>Estado</th>\n",
       "      <th>Vigente/Anulada/Archivada</th>\n",
       "      <th>Tipo de procedimiento</th>\n",
       "      <th>Tramitación</th>\n",
       "      <th>Forma de presentación de la oferta</th>\n",
       "      <th>Órgano de Contratación</th>\n",
       "      <th>...</th>\n",
       "      <th>Número de ofertas recibidas por licitación/lote</th>\n",
       "      <th>Resultado licitación/lote</th>\n",
       "      <th>Identificador Adjudicatario de la licitación/lote</th>\n",
       "      <th>Importe adjudicación sin impuestos licitación/lote</th>\n",
       "      <th>Primera publicación</th>\n",
       "      <th>Fecha actualización</th>\n",
       "      <th>Código Lugar de ejecución</th>\n",
       "      <th>Tipo Licitación</th>\n",
       "      <th>idioma</th>\n",
       "      <th>translate</th>\n",
       "    </tr>\n",
       "  </thead>\n",
       "  <tbody>\n",
       "    <tr>\n",
       "      <th>0</th>\n",
       "      <td>8689190</td>\n",
       "      <td>300/2021/00220</td>\n",
       "      <td>https://contrataciondelestado.es/wps/poc?uri=d...</td>\n",
       "      <td>Escuela de deportes alternativos, para el fome...</td>\n",
       "      <td>Resuelta</td>\n",
       "      <td>VIGENTE</td>\n",
       "      <td>Abierto simplificado</td>\n",
       "      <td>Ordinaria</td>\n",
       "      <td>Electrónica</td>\n",
       "      <td>Distrito de Latina</td>\n",
       "      <td>...</td>\n",
       "      <td>2</td>\n",
       "      <td>Adjudicado</td>\n",
       "      <td>G82270489</td>\n",
       "      <td>20000,0</td>\n",
       "      <td>2021-11-15</td>\n",
       "      <td>2021-12-30</td>\n",
       "      <td>ES300</td>\n",
       "      <td>Licitación Directa</td>\n",
       "      <td>Language.SPANISH</td>\n",
       "      <td>Escuela de deportes alternativos, para el fome...</td>\n",
       "    </tr>\n",
       "    <tr>\n",
       "      <th>1</th>\n",
       "      <td>8723412</td>\n",
       "      <td>2021/066 PASS</td>\n",
       "      <td>https://contrataciondelestado.es/wps/poc?uri=d...</td>\n",
       "      <td>Suministro (Suscripción) de licencias de softw...</td>\n",
       "      <td>Adjudicada</td>\n",
       "      <td>VIGENTE</td>\n",
       "      <td>Abierto simplificado</td>\n",
       "      <td>Ordinaria</td>\n",
       "      <td>Electrónica</td>\n",
       "      <td>Presidencia de la Autoridad Independiente de R...</td>\n",
       "      <td>...</td>\n",
       "      <td>6</td>\n",
       "      <td>Adjudicado</td>\n",
       "      <td>B84852391</td>\n",
       "      <td>17656,32</td>\n",
       "      <td>2021-11-18</td>\n",
       "      <td>2021-12-30</td>\n",
       "      <td>ES300</td>\n",
       "      <td>Licitación Directa</td>\n",
       "      <td>Language.SPANISH</td>\n",
       "      <td>Suministro (Suscripción) de licencias de softw...</td>\n",
       "    </tr>\n",
       "  </tbody>\n",
       "</table>\n",
       "<p>2 rows × 29 columns</p>\n",
       "</div>"
      ],
      "text/plain": [
       "   Identificador Número de expediente  \\\n",
       "0        8689190       300/2021/00220   \n",
       "1        8723412        2021/066 PASS   \n",
       "\n",
       "                                     Link licitación  \\\n",
       "0  https://contrataciondelestado.es/wps/poc?uri=d...   \n",
       "1  https://contrataciondelestado.es/wps/poc?uri=d...   \n",
       "\n",
       "                                 Objeto del Contrato      Estado  \\\n",
       "0  Escuela de deportes alternativos, para el fome...    Resuelta   \n",
       "1  Suministro (Suscripción) de licencias de softw...  Adjudicada   \n",
       "\n",
       "  Vigente/Anulada/Archivada Tipo de procedimiento Tramitación  \\\n",
       "0                   VIGENTE  Abierto simplificado   Ordinaria   \n",
       "1                   VIGENTE  Abierto simplificado   Ordinaria   \n",
       "\n",
       "  Forma de presentación de la oferta  \\\n",
       "0                        Electrónica   \n",
       "1                        Electrónica   \n",
       "\n",
       "                              Órgano de Contratación  ...  \\\n",
       "0                                 Distrito de Latina  ...   \n",
       "1  Presidencia de la Autoridad Independiente de R...  ...   \n",
       "\n",
       "  Número de ofertas recibidas por licitación/lote  Resultado licitación/lote  \\\n",
       "0                                               2                 Adjudicado   \n",
       "1                                               6                 Adjudicado   \n",
       "\n",
       "  Identificador Adjudicatario de la licitación/lote  \\\n",
       "0                                         G82270489   \n",
       "1                                         B84852391   \n",
       "\n",
       "  Importe adjudicación sin impuestos licitación/lote Primera publicación  \\\n",
       "0                                            20000,0          2021-11-15   \n",
       "1                                           17656,32          2021-11-18   \n",
       "\n",
       "  Fecha actualización Código Lugar de ejecución     Tipo Licitación  \\\n",
       "0          2021-12-30                     ES300  Licitación Directa   \n",
       "1          2021-12-30                     ES300  Licitación Directa   \n",
       "\n",
       "             idioma                                          translate  \n",
       "0  Language.SPANISH  Escuela de deportes alternativos, para el fome...  \n",
       "1  Language.SPANISH  Suministro (Suscripción) de licencias de softw...  \n",
       "\n",
       "[2 rows x 29 columns]"
      ]
     },
     "execution_count": 3,
     "metadata": {},
     "output_type": "execute_result"
    }
   ],
   "source": [
    "print('el número de licitaciones es de', len(df))\n",
    "df.head(2)"
   ]
  },
  {
   "cell_type": "code",
   "execution_count": 4,
   "id": "9be4c2d4",
   "metadata": {},
   "outputs": [
    {
     "data": {
      "text/plain": [
       "Index(['Identificador', 'Número de expediente', 'Link licitación',\n",
       "       'Objeto del Contrato', 'Estado', 'Vigente/Anulada/Archivada',\n",
       "       'Tipo de procedimiento', 'Tramitación',\n",
       "       'Forma de presentación de la oferta', 'Órgano de Contratación',\n",
       "       'Tipo de contrato', 'Lote', 'CPV', 'Sistema de contratación',\n",
       "       'Directiva de aplicación', 'Subcontratación permitida',\n",
       "       'Valor estimado del contrato', 'Presupuesto base sin impuestos',\n",
       "       'Con Adjudicatario', 'Número de ofertas recibidas por licitación/lote',\n",
       "       'Resultado licitación/lote',\n",
       "       'Identificador Adjudicatario de la licitación/lote',\n",
       "       'Importe adjudicación sin impuestos licitación/lote',\n",
       "       'Primera publicación', 'Fecha actualización',\n",
       "       'Código Lugar de ejecución', 'Tipo Licitación', 'idioma', 'translate'],\n",
       "      dtype='object')"
      ]
     },
     "execution_count": 4,
     "metadata": {},
     "output_type": "execute_result"
    }
   ],
   "source": [
    "df.columns"
   ]
  },
  {
   "cell_type": "markdown",
   "id": "e4561a72",
   "metadata": {},
   "source": [
    "### 2. Detección de idioma de la licitación"
   ]
  },
  {
   "cell_type": "code",
   "execution_count": 5,
   "id": "f275df06",
   "metadata": {},
   "outputs": [],
   "source": [
    "#En el plan gratis hay una limitación de 1000 traducciones al día. No me sirve para el proyecto\n",
    "#https://detectlanguage.com/private/plan_changes/new\n",
    "#import detectlanguage\n",
    "\n",
    "#detectlanguage.configuration.api_key = \"fcf87902b3e0e5516758bb7278ee87e7\"\n",
    "#detectlanguage.detect('hola')"
   ]
  },
  {
   "cell_type": "code",
   "execution_count": 6,
   "id": "e51cdd85",
   "metadata": {},
   "outputs": [
    {
     "data": {
      "text/plain": [
       "Language.CATALAN"
      ]
     },
     "execution_count": 6,
     "metadata": {},
     "output_type": "execute_result"
    }
   ],
   "source": [
    "#https://github.com/pemistahl/lingua-py\n",
    "\n",
    "from lingua import Language, LanguageDetectorBuilder\n",
    "\n",
    "languages = [Language.CATALAN, Language.SPANISH]\n",
    "detector = LanguageDetectorBuilder.from_languages(*languages).build()\n",
    "detector.detect_language_of(\"present contracte és atorgar l\\'ús privatiu del\")"
   ]
  },
  {
   "cell_type": "code",
   "execution_count": 15,
   "id": "caf82cc0",
   "metadata": {},
   "outputs": [],
   "source": [
    "# En la segunda vuelta, detectamos el idioma de la columna ya traducida\n",
    "df['idioma_translate'] = df['translate'].apply(lambda x: detector.detect_language_of(x))"
   ]
  },
  {
   "cell_type": "code",
   "execution_count": 19,
   "id": "dcf66e41",
   "metadata": {},
   "outputs": [
    {
     "data": {
      "text/html": [
       "<div>\n",
       "<style scoped>\n",
       "    .dataframe tbody tr th:only-of-type {\n",
       "        vertical-align: middle;\n",
       "    }\n",
       "\n",
       "    .dataframe tbody tr th {\n",
       "        vertical-align: top;\n",
       "    }\n",
       "\n",
       "    .dataframe thead th {\n",
       "        text-align: right;\n",
       "    }\n",
       "</style>\n",
       "<table border=\"1\" class=\"dataframe\">\n",
       "  <thead>\n",
       "    <tr style=\"text-align: right;\">\n",
       "      <th></th>\n",
       "      <th>Identificador</th>\n",
       "      <th>Número de expediente</th>\n",
       "      <th>Link licitación</th>\n",
       "      <th>Objeto del Contrato</th>\n",
       "      <th>Estado</th>\n",
       "      <th>Vigente/Anulada/Archivada</th>\n",
       "      <th>Tipo de procedimiento</th>\n",
       "      <th>Tramitación</th>\n",
       "      <th>Forma de presentación de la oferta</th>\n",
       "      <th>Órgano de Contratación</th>\n",
       "      <th>...</th>\n",
       "      <th>Número de ofertas recibidas por licitación/lote</th>\n",
       "      <th>Resultado licitación/lote</th>\n",
       "      <th>Identificador Adjudicatario de la licitación/lote</th>\n",
       "      <th>Importe adjudicación sin impuestos licitación/lote</th>\n",
       "      <th>Primera publicación</th>\n",
       "      <th>Fecha actualización</th>\n",
       "      <th>Código Lugar de ejecución</th>\n",
       "      <th>Tipo Licitación</th>\n",
       "      <th>translate</th>\n",
       "      <th>idioma_translate</th>\n",
       "    </tr>\n",
       "    <tr>\n",
       "      <th>idioma</th>\n",
       "      <th></th>\n",
       "      <th></th>\n",
       "      <th></th>\n",
       "      <th></th>\n",
       "      <th></th>\n",
       "      <th></th>\n",
       "      <th></th>\n",
       "      <th></th>\n",
       "      <th></th>\n",
       "      <th></th>\n",
       "      <th></th>\n",
       "      <th></th>\n",
       "      <th></th>\n",
       "      <th></th>\n",
       "      <th></th>\n",
       "      <th></th>\n",
       "      <th></th>\n",
       "      <th></th>\n",
       "      <th></th>\n",
       "      <th></th>\n",
       "      <th></th>\n",
       "    </tr>\n",
       "  </thead>\n",
       "  <tbody>\n",
       "    <tr>\n",
       "      <th>Language.CATALAN</th>\n",
       "      <td>143910</td>\n",
       "      <td>143910</td>\n",
       "      <td>143910</td>\n",
       "      <td>143910</td>\n",
       "      <td>143910</td>\n",
       "      <td>143910</td>\n",
       "      <td>143910</td>\n",
       "      <td>143910</td>\n",
       "      <td>143910</td>\n",
       "      <td>143910</td>\n",
       "      <td>...</td>\n",
       "      <td>143910</td>\n",
       "      <td>143910</td>\n",
       "      <td>143910</td>\n",
       "      <td>143910</td>\n",
       "      <td>143910</td>\n",
       "      <td>143910</td>\n",
       "      <td>143910</td>\n",
       "      <td>143910</td>\n",
       "      <td>143910</td>\n",
       "      <td>143909</td>\n",
       "    </tr>\n",
       "    <tr>\n",
       "      <th>Language.SPANISH</th>\n",
       "      <td>705173</td>\n",
       "      <td>705173</td>\n",
       "      <td>705173</td>\n",
       "      <td>705173</td>\n",
       "      <td>705173</td>\n",
       "      <td>705173</td>\n",
       "      <td>705173</td>\n",
       "      <td>705173</td>\n",
       "      <td>705173</td>\n",
       "      <td>705173</td>\n",
       "      <td>...</td>\n",
       "      <td>705173</td>\n",
       "      <td>705173</td>\n",
       "      <td>705173</td>\n",
       "      <td>705173</td>\n",
       "      <td>705173</td>\n",
       "      <td>705173</td>\n",
       "      <td>705173</td>\n",
       "      <td>705173</td>\n",
       "      <td>705173</td>\n",
       "      <td>705173</td>\n",
       "    </tr>\n",
       "  </tbody>\n",
       "</table>\n",
       "<p>2 rows × 29 columns</p>\n",
       "</div>"
      ],
      "text/plain": [
       "                  Identificador  Número de expediente  Link licitación  \\\n",
       "idioma                                                                   \n",
       "Language.CATALAN         143910                143910           143910   \n",
       "Language.SPANISH         705173                705173           705173   \n",
       "\n",
       "                  Objeto del Contrato  Estado  Vigente/Anulada/Archivada  \\\n",
       "idioma                                                                     \n",
       "Language.CATALAN               143910  143910                     143910   \n",
       "Language.SPANISH               705173  705173                     705173   \n",
       "\n",
       "                  Tipo de procedimiento  Tramitación  \\\n",
       "idioma                                                 \n",
       "Language.CATALAN                 143910       143910   \n",
       "Language.SPANISH                 705173       705173   \n",
       "\n",
       "                  Forma de presentación de la oferta  Órgano de Contratación  \\\n",
       "idioma                                                                         \n",
       "Language.CATALAN                              143910                  143910   \n",
       "Language.SPANISH                              705173                  705173   \n",
       "\n",
       "                  ...  Número de ofertas recibidas por licitación/lote  \\\n",
       "idioma            ...                                                    \n",
       "Language.CATALAN  ...                                           143910   \n",
       "Language.SPANISH  ...                                           705173   \n",
       "\n",
       "                  Resultado licitación/lote  \\\n",
       "idioma                                        \n",
       "Language.CATALAN                     143910   \n",
       "Language.SPANISH                     705173   \n",
       "\n",
       "                  Identificador Adjudicatario de la licitación/lote  \\\n",
       "idioma                                                                \n",
       "Language.CATALAN                                             143910   \n",
       "Language.SPANISH                                             705173   \n",
       "\n",
       "                  Importe adjudicación sin impuestos licitación/lote  \\\n",
       "idioma                                                                 \n",
       "Language.CATALAN                                             143910    \n",
       "Language.SPANISH                                             705173    \n",
       "\n",
       "                  Primera publicación  Fecha actualización  \\\n",
       "idioma                                                       \n",
       "Language.CATALAN               143910               143910   \n",
       "Language.SPANISH               705173               705173   \n",
       "\n",
       "                  Código Lugar de ejecución  Tipo Licitación  translate  \\\n",
       "idioma                                                                    \n",
       "Language.CATALAN                     143910           143910     143910   \n",
       "Language.SPANISH                     705173           705173     705173   \n",
       "\n",
       "                  idioma_translate  \n",
       "idioma                              \n",
       "Language.CATALAN            143909  \n",
       "Language.SPANISH            705173  \n",
       "\n",
       "[2 rows x 29 columns]"
      ]
     },
     "execution_count": 19,
     "metadata": {},
     "output_type": "execute_result"
    }
   ],
   "source": [
    "df.groupby('idioma').count()"
   ]
  },
  {
   "cell_type": "code",
   "execution_count": 16,
   "id": "f8927eb1",
   "metadata": {},
   "outputs": [
    {
     "data": {
      "text/html": [
       "<div>\n",
       "<style scoped>\n",
       "    .dataframe tbody tr th:only-of-type {\n",
       "        vertical-align: middle;\n",
       "    }\n",
       "\n",
       "    .dataframe tbody tr th {\n",
       "        vertical-align: top;\n",
       "    }\n",
       "\n",
       "    .dataframe thead th {\n",
       "        text-align: right;\n",
       "    }\n",
       "</style>\n",
       "<table border=\"1\" class=\"dataframe\">\n",
       "  <thead>\n",
       "    <tr style=\"text-align: right;\">\n",
       "      <th></th>\n",
       "      <th>Identificador</th>\n",
       "      <th>Número de expediente</th>\n",
       "      <th>Link licitación</th>\n",
       "      <th>Objeto del Contrato</th>\n",
       "      <th>Estado</th>\n",
       "      <th>Vigente/Anulada/Archivada</th>\n",
       "      <th>Tipo de procedimiento</th>\n",
       "      <th>Tramitación</th>\n",
       "      <th>Forma de presentación de la oferta</th>\n",
       "      <th>Órgano de Contratación</th>\n",
       "      <th>...</th>\n",
       "      <th>Número de ofertas recibidas por licitación/lote</th>\n",
       "      <th>Resultado licitación/lote</th>\n",
       "      <th>Identificador Adjudicatario de la licitación/lote</th>\n",
       "      <th>Importe adjudicación sin impuestos licitación/lote</th>\n",
       "      <th>Primera publicación</th>\n",
       "      <th>Fecha actualización</th>\n",
       "      <th>Código Lugar de ejecución</th>\n",
       "      <th>Tipo Licitación</th>\n",
       "      <th>idioma</th>\n",
       "      <th>translate</th>\n",
       "    </tr>\n",
       "    <tr>\n",
       "      <th>idioma_translate</th>\n",
       "      <th></th>\n",
       "      <th></th>\n",
       "      <th></th>\n",
       "      <th></th>\n",
       "      <th></th>\n",
       "      <th></th>\n",
       "      <th></th>\n",
       "      <th></th>\n",
       "      <th></th>\n",
       "      <th></th>\n",
       "      <th></th>\n",
       "      <th></th>\n",
       "      <th></th>\n",
       "      <th></th>\n",
       "      <th></th>\n",
       "      <th></th>\n",
       "      <th></th>\n",
       "      <th></th>\n",
       "      <th></th>\n",
       "      <th></th>\n",
       "      <th></th>\n",
       "    </tr>\n",
       "  </thead>\n",
       "  <tbody>\n",
       "    <tr>\n",
       "      <th>Language.CATALAN</th>\n",
       "      <td>17992</td>\n",
       "      <td>17992</td>\n",
       "      <td>17992</td>\n",
       "      <td>17992</td>\n",
       "      <td>17992</td>\n",
       "      <td>17992</td>\n",
       "      <td>17992</td>\n",
       "      <td>17992</td>\n",
       "      <td>17992</td>\n",
       "      <td>17992</td>\n",
       "      <td>...</td>\n",
       "      <td>17992</td>\n",
       "      <td>17992</td>\n",
       "      <td>17992</td>\n",
       "      <td>17992</td>\n",
       "      <td>17992</td>\n",
       "      <td>17992</td>\n",
       "      <td>17992</td>\n",
       "      <td>17992</td>\n",
       "      <td>17992</td>\n",
       "      <td>17992</td>\n",
       "    </tr>\n",
       "    <tr>\n",
       "      <th>Language.SPANISH</th>\n",
       "      <td>831090</td>\n",
       "      <td>831090</td>\n",
       "      <td>831090</td>\n",
       "      <td>831090</td>\n",
       "      <td>831090</td>\n",
       "      <td>831090</td>\n",
       "      <td>831090</td>\n",
       "      <td>831090</td>\n",
       "      <td>831090</td>\n",
       "      <td>831090</td>\n",
       "      <td>...</td>\n",
       "      <td>831090</td>\n",
       "      <td>831090</td>\n",
       "      <td>831090</td>\n",
       "      <td>831090</td>\n",
       "      <td>831090</td>\n",
       "      <td>831090</td>\n",
       "      <td>831090</td>\n",
       "      <td>831090</td>\n",
       "      <td>831090</td>\n",
       "      <td>831090</td>\n",
       "    </tr>\n",
       "  </tbody>\n",
       "</table>\n",
       "<p>2 rows × 29 columns</p>\n",
       "</div>"
      ],
      "text/plain": [
       "                  Identificador  Número de expediente  Link licitación  \\\n",
       "idioma_translate                                                         \n",
       "Language.CATALAN          17992                 17992            17992   \n",
       "Language.SPANISH         831090                831090           831090   \n",
       "\n",
       "                  Objeto del Contrato  Estado  Vigente/Anulada/Archivada  \\\n",
       "idioma_translate                                                           \n",
       "Language.CATALAN                17992   17992                      17992   \n",
       "Language.SPANISH               831090  831090                     831090   \n",
       "\n",
       "                  Tipo de procedimiento  Tramitación  \\\n",
       "idioma_translate                                       \n",
       "Language.CATALAN                  17992        17992   \n",
       "Language.SPANISH                 831090       831090   \n",
       "\n",
       "                  Forma de presentación de la oferta  Órgano de Contratación  \\\n",
       "idioma_translate                                                               \n",
       "Language.CATALAN                               17992                   17992   \n",
       "Language.SPANISH                              831090                  831090   \n",
       "\n",
       "                  ...  Número de ofertas recibidas por licitación/lote  \\\n",
       "idioma_translate  ...                                                    \n",
       "Language.CATALAN  ...                                            17992   \n",
       "Language.SPANISH  ...                                           831090   \n",
       "\n",
       "                  Resultado licitación/lote  \\\n",
       "idioma_translate                              \n",
       "Language.CATALAN                      17992   \n",
       "Language.SPANISH                     831090   \n",
       "\n",
       "                  Identificador Adjudicatario de la licitación/lote  \\\n",
       "idioma_translate                                                      \n",
       "Language.CATALAN                                              17992   \n",
       "Language.SPANISH                                             831090   \n",
       "\n",
       "                  Importe adjudicación sin impuestos licitación/lote  \\\n",
       "idioma_translate                                                       \n",
       "Language.CATALAN                                              17992    \n",
       "Language.SPANISH                                             831090    \n",
       "\n",
       "                  Primera publicación  Fecha actualización  \\\n",
       "idioma_translate                                             \n",
       "Language.CATALAN                17992                17992   \n",
       "Language.SPANISH               831090               831090   \n",
       "\n",
       "                  Código Lugar de ejecución  Tipo Licitación  idioma  \\\n",
       "idioma_translate                                                       \n",
       "Language.CATALAN                      17992            17992   17992   \n",
       "Language.SPANISH                     831090           831090  831090   \n",
       "\n",
       "                  translate  \n",
       "idioma_translate             \n",
       "Language.CATALAN      17992  \n",
       "Language.SPANISH     831090  \n",
       "\n",
       "[2 rows x 29 columns]"
      ]
     },
     "execution_count": 16,
     "metadata": {},
     "output_type": "execute_result"
    }
   ],
   "source": [
    "# Después de la traducción quedan unas 18k licitaciones sin traducir bien\n",
    "df.groupby('idioma_translate').count()"
   ]
  },
  {
   "cell_type": "code",
   "execution_count": 36,
   "id": "643cb65d",
   "metadata": {},
   "outputs": [],
   "source": [
    "#Guardado\n",
    "df.to_csv('main_licitaciones_bbdd_idioma.csv', index = False)"
   ]
  },
  {
   "cell_type": "code",
   "execution_count": 8,
   "id": "11c22659",
   "metadata": {},
   "outputs": [
    {
     "data": {
      "text/plain": [
       "'L\\'objecte del present contracte és atorgar l\\'ús privatiu del domini públic de l\\'espai destinat a bar restaurant situat a l\\'e difici de l\\'equipament cultural de la societat recreativa \"La Unió Fraternal\" ubicat a la Riera Ginjolers. Aquest edifici és un equipament cultural de l\\'Ajuntament de Roses, que es pretén configurar\\ncom un espai per al desenvolupament d\\'activitats educatives, culturals i d\\'oci, essent el bar un complement dels diversos serveis del conjunt de l\\'equipament, i en conseqüència, ha d\\'oferir una imatge singular, atractiva i respectuosa per a tots els sectors de la població, col·laborant en el desenvolupament d\\'a ctivitats que s\\'hi promocionin. Per tal de garantir una correcta coordinació entre els usos de les diferents dependències de l\\'equipament, l\\'Ajuntament establirà els mecanismes perquè es pugui realitzar amb efectivitat aquesta coordinació. S\\'adjunta plànol descriptiu de la zona a ocupar dins l\\'edifici com a Annex III.'"
      ]
     },
     "execution_count": 8,
     "metadata": {},
     "output_type": "execute_result"
    }
   ],
   "source": [
    "df.loc[618520, 'Objeto del Contrato']"
   ]
  },
  {
   "cell_type": "markdown",
   "id": "b195fefe",
   "metadata": {},
   "source": [
    "### 3. Traducción automática\n",
    "\n",
    "Utilizamos modelos de Hugging Face ya entrenados para hacer la traducción de catalán a castellano.\n",
    "\n",
    "El modelo es: https://huggingface.co/Helsinki-NLP/opus-mt-ca-en"
   ]
  },
  {
   "cell_type": "code",
   "execution_count": 5,
   "id": "6b3ae08c",
   "metadata": {},
   "outputs": [],
   "source": [
    "#from transformers import AutoTokenizer, AutoModelForSeq2SeqLM\n",
    "from transformers import MarianMTModel, MarianTokenizer\n",
    "\n",
    "tokenizer = MarianTokenizer.from_pretrained(\"Helsinki-NLP/opus-mt-ca-es\")\n",
    "model = MarianMTModel.from_pretrained(\"Helsinki-NLP/opus-mt-ca-es\")"
   ]
  },
  {
   "cell_type": "code",
   "execution_count": 10,
   "id": "a2f380d3",
   "metadata": {},
   "outputs": [],
   "source": [
    "def translate_row(x):\n",
    "    #inputs:\n",
    "    #x: string to trasnlate from catalan to spanish\n",
    "    \n",
    "    batch = tokenizer([x], return_tensors = \"pt\")\n",
    "    generated_ids = model.generate(**batch)\n",
    "    trans = tokenizer.batch_decode(generated_ids, skip_special_tokens = True)[0]\n",
    "    \n",
    "    return trans"
   ]
  },
  {
   "cell_type": "code",
   "execution_count": 12,
   "id": "fe0ee3e3",
   "metadata": {},
   "outputs": [
    {
     "name": "stdout",
     "output_type": "stream",
     "text": [
      "CPU times: total: 13d 17h 24min 4s\n",
      "Wall time: 2d 7h 35min 41s\n"
     ]
    }
   ],
   "source": [
    "%%time\n",
    "df['translate'] = df.apply(lambda x: translate_row(x['Objeto del Contrato']) if ((x['idioma'] == 'Language.CATALAN') \n",
    "                                                                                & (len(x['Objeto del Contrato']) <= 512))\n",
    "                           else x['Objeto del Contrato'], axis = 1)"
   ]
  },
  {
   "cell_type": "code",
   "execution_count": 14,
   "id": "188020f9",
   "metadata": {},
   "outputs": [],
   "source": [
    "#Guardado\n",
    "df.to_csv('main_licitaciones_bbdd_idioma_traduccion.csv', index = False)"
   ]
  },
  {
   "cell_type": "code",
   "execution_count": 33,
   "id": "517d822f",
   "metadata": {
    "scrolled": true
   },
   "outputs": [
    {
     "data": {
      "text/plain": [
       "\"Nova xarxa d'aigua potable, aigua pluvial i adaptació a la legislacio en matèria d'accessibilitat\""
      ]
     },
     "execution_count": 33,
     "metadata": {},
     "output_type": "execute_result"
    }
   ],
   "source": [
    "df_.loc[608, 'Objeto del Contrato']"
   ]
  },
  {
   "cell_type": "code",
   "execution_count": 34,
   "id": "cf33b1f4",
   "metadata": {},
   "outputs": [
    {
     "data": {
      "text/plain": [
       "'Nueva red de agua potable, agua pluvial y adaptación a la legislacion en materia de accesibilidad'"
      ]
     },
     "execution_count": 34,
     "metadata": {},
     "output_type": "execute_result"
    }
   ],
   "source": [
    "df_.loc[608, 'translate']"
   ]
  }
 ],
 "metadata": {
  "kernelspec": {
   "display_name": "Python 3 (ipykernel)",
   "language": "python",
   "name": "python3"
  },
  "language_info": {
   "codemirror_mode": {
    "name": "ipython",
    "version": 3
   },
   "file_extension": ".py",
   "mimetype": "text/x-python",
   "name": "python",
   "nbconvert_exporter": "python",
   "pygments_lexer": "ipython3",
   "version": "3.9.12"
  }
 },
 "nbformat": 4,
 "nbformat_minor": 5
}
